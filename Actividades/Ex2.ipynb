{
  "nbformat": 4,
  "nbformat_minor": 0,
  "metadata": {
    "colab": {
      "provenance": [],
      "authorship_tag": "ABX9TyOxDfFnsPqsv+oBmSiK/vj4",
      "include_colab_link": true
    },
    "kernelspec": {
      "name": "python3",
      "display_name": "Python 3"
    },
    "language_info": {
      "name": "python"
    }
  },
  "cells": [
    {
      "cell_type": "markdown",
      "metadata": {
        "id": "view-in-github",
        "colab_type": "text"
      },
      "source": [
        "<a href=\"https://colab.research.google.com/github/Zevas02/Inteligencia-Artificial/blob/main/Actividades/Ex2.ipynb\" target=\"_parent\"><img src=\"https://colab.research.google.com/assets/colab-badge.svg\" alt=\"Open In Colab\"/></a>"
      ]
    },
    {
      "cell_type": "code",
      "execution_count": 1,
      "metadata": {
        "colab": {
          "base_uri": "https://localhost:8080/"
        },
        "id": "juCHlTstB_87",
        "outputId": "78c58317-5392-422f-d2a9-0d330862811e"
      },
      "outputs": [
        {
          "output_type": "stream",
          "name": "stdout",
          "text": [
            "Ingrese cuántos números de la serie de Fibonacci desea generar: 23\n",
            "La serie de Fibonacci con 23 números es:\n",
            "[0, 1, 1, 2, 3, 5, 8, 13, 21, 34, 55, 89, 144, 233, 377, 610, 987, 1597, 2584, 4181, 6765, 10946, 17711]\n"
          ]
        }
      ],
      "source": [
        "def fibonacci(n):\n",
        "    fibonacci_series = [0, 1]\n",
        "    if n <= 0:\n",
        "        return []\n",
        "    elif n == 1:\n",
        "        return [0]\n",
        "    elif n == 2:\n",
        "        return fibonacci_series\n",
        "    else:\n",
        "        for i in range(2, n):\n",
        "            next_num = fibonacci_series[-1] + fibonacci_series[-2]\n",
        "            fibonacci_series.append(next_num)\n",
        "        return fibonacci_series\n",
        "\n",
        "cantidad = input(\"Ingrese cuántos números de la serie de Fibonacci desea generar: \")\n",
        "if cantidad.isdigit():\n",
        "    cantidad = int(cantidad)\n",
        "    if cantidad <= 0:\n",
        "        print(\"Por favor ingrese un número positivo.\")\n",
        "    else:\n",
        "        fibonacci_series = fibonacci(cantidad)\n",
        "        print(\"La serie de Fibonacci con {} números es:\".format(cantidad))\n",
        "        print(fibonacci_series)\n",
        "else:\n",
        "    print(\"Por favor ingrese un número válido.\")\n"
      ]
    }
  ]
}