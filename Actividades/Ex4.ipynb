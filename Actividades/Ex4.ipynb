{
  "nbformat": 4,
  "nbformat_minor": 0,
  "metadata": {
    "colab": {
      "provenance": [],
      "authorship_tag": "ABX9TyOxDfFnsPqsv+oBmSiK/vj4",
      "include_colab_link": true
    },
    "kernelspec": {
      "name": "python3",
      "display_name": "Python 3"
    },
    "language_info": {
      "name": "python"
    }
  },
  "cells": [
    {
      "cell_type": "markdown",
      "metadata": {
        "id": "view-in-github",
        "colab_type": "text"
      },
      "source": [
        "<a href=\"https://colab.research.google.com/github/Zevas02/Inteligencia-Artificial/blob/main/Ex4.ipynb\" target=\"_parent\"><img src=\"https://colab.research.google.com/assets/colab-badge.svg\" alt=\"Open In Colab\"/></a>"
      ]
    },
    {
      "cell_type": "code",
      "execution_count": null,
      "metadata": {
        "id": "juCHlTstB_87"
      },
      "outputs": [],
      "source": [
        "def fibonacci(n):\n",
        "    fibonacci_series = [0, 1]\n",
        "    if n <= 0:\n",
        "        return []\n",
        "    elif n == 1:\n",
        "        return [0]\n",
        "    elif n == 2:\n",
        "        return fibonacci_series\n",
        "    else:\n",
        "        for i in range(2, n):\n",
        "            next_num = fibonacci_series[-1] + fibonacci_series[-2]\n",
        "            fibonacci_series.append(next_num)\n",
        "        return fibonacci_series\n",
        "\n",
        "cantidad = input(\"Ingrese cuántos números de la serie de Fibonacci desea generar: \")\n",
        "if cantidad.isdigit():\n",
        "    cantidad = int(cantidad)\n",
        "    if cantidad <= 0:\n",
        "        print(\"Por favor ingrese un número positivo.\")\n",
        "    else:\n",
        "        fibonacci_series = fibonacci(cantidad)\n",
        "        print(\"La serie de Fibonacci con {} números es:\".format(cantidad))\n",
        "        print(fibonacci_series)\n",
        "else:\n",
        "    print(\"Por favor ingrese un número válido.\")\n"
      ]
    }
  ]
}
