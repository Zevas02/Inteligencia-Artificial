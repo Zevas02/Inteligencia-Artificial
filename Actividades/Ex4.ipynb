{
  "nbformat": 4,
  "nbformat_minor": 0,
  "metadata": {
    "colab": {
      "provenance": [],
      "authorship_tag": "ABX9TyMYeEaPtgfbCSdl9jE/5NHy",
      "include_colab_link": true
    },
    "kernelspec": {
      "name": "python3",
      "display_name": "Python 3"
    },
    "language_info": {
      "name": "python"
    }
  },
  "cells": [
    {
      "cell_type": "markdown",
      "metadata": {
        "id": "view-in-github",
        "colab_type": "text"
      },
      "source": [
        "<a href=\"https://colab.research.google.com/github/Zevas02/Inteligencia-Artificial/blob/main/Actividades/Ex4.ipynb\" target=\"_parent\"><img src=\"https://colab.research.google.com/assets/colab-badge.svg\" alt=\"Open In Colab\"/></a>"
      ]
    },
    {
      "cell_type": "code",
      "execution_count": 1,
      "metadata": {
        "colab": {
          "base_uri": "https://localhost:8080/"
        },
        "id": "_HLGX2uwE7Mz",
        "outputId": "89ab9266-9cd0-4b5d-e329-ab14411d84f1"
      },
      "outputs": [
        {
          "output_type": "stream",
          "name": "stdout",
          "text": [
            "Ingrese el inicio del rango: 10\n",
            "Ingrese el fin del rango: 59\n",
            "Los números primos en el rango de 10 a 59 son:\n",
            "[11, 13, 17, 19, 23, 29, 31, 37, 41, 43, 47, 53, 59]\n"
          ]
        }
      ],
      "source": [
        "def es_primo(numero):\n",
        "    if numero <= 1:\n",
        "        return False\n",
        "    elif numero == 2:\n",
        "        return True\n",
        "    elif numero % 2 == 0:\n",
        "        return False\n",
        "    else:\n",
        "        for i in range(3, int(numero**0.5) + 1, 2):\n",
        "            if numero % i == 0:\n",
        "                return False\n",
        "        return True\n",
        "\n",
        "def encontrar_primos_en_rango(inicio_rango, fin_rango):\n",
        "    primos = []\n",
        "    for num in range(inicio_rango, fin_rango + 1):\n",
        "        if es_primo(num):\n",
        "            primos.append(num)\n",
        "    return primos\n",
        "\n",
        "inicio_rango = int(input(\"Ingrese el inicio del rango: \"))\n",
        "fin_rango = int(input(\"Ingrese el fin del rango: \"))\n",
        "\n",
        "if inicio_rango >= fin_rango:\n",
        "    print(\"El inicio del rango debe ser menor que el fin del rango.\")\n",
        "else:\n",
        "    primos_en_rango = encontrar_primos_en_rango(inicio_rango, fin_rango)\n",
        "    if primos_en_rango:\n",
        "        print(\"Los números primos en el rango de {} a {} son:\".format(inicio_rango, fin_rango))\n",
        "        print(primos_en_rango)\n",
        "    else:\n",
        "        print(\"No hay números primos en el rango de {} a {}.\".format(inicio_rango, fin_rango))\n"
      ]
    }
  ]
}