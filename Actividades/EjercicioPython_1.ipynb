{
  "nbformat": 4,
  "nbformat_minor": 0,
  "metadata": {
    "colab": {
      "provenance": [],
      "authorship_tag": "ABX9TyNG6O56wBrHxgwUMa/F+3E5",
      "include_colab_link": true
    },
    "kernelspec": {
      "name": "python3",
      "display_name": "Python 3"
    },
    "language_info": {
      "name": "python"
    }
  },
  "cells": [
    {
      "cell_type": "markdown",
      "metadata": {
        "id": "view-in-github",
        "colab_type": "text"
      },
      "source": [
        "<a href=\"https://colab.research.google.com/github/Zevas02/Inteligencia-Artificial/blob/main/Actividades/EjercicioPython_1.ipynb\" target=\"_parent\"><img src=\"https://colab.research.google.com/assets/colab-badge.svg\" alt=\"Open In Colab\"/></a>"
      ]
    },
    {
      "cell_type": "code",
      "execution_count": 2,
      "metadata": {
        "id": "JSsFakrJJIuc"
      },
      "outputs": [],
      "source": [
        "## Actividad #2: Diseño de Algoritmos en Python. Sebastian Cordero Leija, 1915025, N4"
      ]
    },
    {
      "cell_type": "code",
      "source": [
        "# Solicitamos al usuario su nombre, para lo que declararemos la variable \"name\".\n",
        "name = input(\"Favor de ingresar su nombre:\")\n",
        "name = name.lower()\n",
        "\n",
        "# Confirmaremos si el nombre no es parte de los nombres a excluir.\n",
        "if name not in [\"ana\", \"juan\", \"pedro\"]:\n",
        "    print(f\"Buen día, {name}.\")\n",
        "else:\n",
        "    print(\"¡Hola! Buen día\")\n"
      ],
      "metadata": {
        "colab": {
          "base_uri": "https://localhost:8080/"
        },
        "id": "SbCTj7FvJfZS",
        "outputId": "f8c43d00-e852-4561-85f9-5ea139c3dae1"
      },
      "execution_count": 3,
      "outputs": [
        {
          "output_type": "stream",
          "name": "stdout",
          "text": [
            "Favor de ingresar su nombre:Sebastian\n",
            "Buen día, sebastian.\n"
          ]
        }
      ]
    },
    {
      "cell_type": "code",
      "source": [
        "def solicitar_lista_y_invertir():\n",
        "    num_elementos = int(input(\"¿Cuántos elementos tendrá tu lista? \"))\n",
        "    lista = []\n",
        "    for i in range(num_elementos):\n",
        "        elemento = input(f\"Ingresa el elemento {i + 1}: \")\n",
        "        lista.append(elemento)\n",
        "    lista_invertida = lista[::-1]\n",
        "    return lista_invertida\n",
        "\n",
        "lista_invertida = solicitar_lista_y_invertir()\n",
        "print(\"La lista invertida es:\", lista_invertida)\n"
      ],
      "metadata": {
        "colab": {
          "base_uri": "https://localhost:8080/"
        },
        "id": "bbOwWyxWM8E3",
        "outputId": "23c38980-7bc7-4261-ea93-c2a6672122a1"
      },
      "execution_count": 5,
      "outputs": [
        {
          "output_type": "stream",
          "name": "stdout",
          "text": [
            "¿Cuántos elementos tendrá tu lista? 5\n",
            "Ingresa el elemento 1: perro\n",
            "Ingresa el elemento 2: gato\n",
            "Ingresa el elemento 3: caballo\n",
            "Ingresa el elemento 4: cucaracha\n",
            "Ingresa el elemento 5: gaviota\n",
            "La lista invertida es: ['gaviota', 'cucaracha', 'caballo', 'gato', 'perro']\n"
          ]
        }
      ]
    },
    {
      "cell_type": "code",
      "source": [
        "def fibonacci(n):\n",
        "    fibonacci_series = [0, 1]\n",
        "    if n <= 0:\n",
        "        return []\n",
        "    elif n == 1:\n",
        "        return [0]\n",
        "    elif n == 2:\n",
        "        return fibonacci_series\n",
        "    else:\n",
        "        for i in range(2, n):\n",
        "            next_num = fibonacci_series[-1] + fibonacci_series[-2]\n",
        "            fibonacci_series.append(next_num)\n",
        "        return fibonacci_series\n",
        "\n",
        "cantidad = input(\"Ingrese cuántos números de la serie de Fibonacci desea generar: \")\n",
        "if cantidad.isdigit():\n",
        "    cantidad = int(cantidad)\n",
        "    if cantidad <= 0:\n",
        "        print(\"Por favor ingrese un número positivo.\")\n",
        "    else:\n",
        "        fibonacci_series = fibonacci(cantidad)\n",
        "        print(\"La serie de Fibonacci con {} números es:\".format(cantidad))\n",
        "        print(fibonacci_series)\n",
        "else:\n",
        "    print(\"Por favor ingrese un número válido.\")"
      ],
      "metadata": {
        "colab": {
          "base_uri": "https://localhost:8080/"
        },
        "id": "xngxPqm5NOqU",
        "outputId": "370fb4f1-0f6f-40e9-9d84-ba0ef01500fd"
      },
      "execution_count": 6,
      "outputs": [
        {
          "output_type": "stream",
          "name": "stdout",
          "text": [
            "Ingrese cuántos números de la serie de Fibonacci desea generar: 14\n",
            "La serie de Fibonacci con 14 números es:\n",
            "[0, 1, 1, 2, 3, 5, 8, 13, 21, 34, 55, 89, 144, 233]\n"
          ]
        }
      ]
    },
    {
      "cell_type": "code",
      "source": [
        "import random\n",
        "\n",
        "def game_guess_number():\n",
        "    return random.randint(1, 100)\n",
        "\n",
        "print(\"¡Hola!, bienvenido a Adivina el número. Generaré un número aleatorio del 1-100, intenta adivinar cuál es\")\n",
        "secret_number = game_guess_number()\n",
        "\n",
        "while True:\n",
        "    attempt = int(input(\"Dame tu suposición: \"))\n",
        "\n",
        "    if attempt == secret_number:\n",
        "        print(\"Bien hecho, adivinaste\")\n",
        "        break\n",
        "    elif attempt > secret_number:\n",
        "        print(\"Te pasaste, intenta con otro numero mas pequeño\")\n",
        "    else:\n",
        "        print(\"Te quedaste corto, intenta con algun numero mas grande\")\n"
      ],
      "metadata": {
        "colab": {
          "base_uri": "https://localhost:8080/"
        },
        "id": "0m5XrWJ0PDjZ",
        "outputId": "558677d7-96b7-4d73-ad22-8ce3c1cff966"
      },
      "execution_count": 12,
      "outputs": [
        {
          "output_type": "stream",
          "name": "stdout",
          "text": [
            "¡Hola!, bienvenido a Adivina el número. Generaré un número aleatorio del 1-100, intenta adivinar cuál es\n",
            "Dame tu suposición: 34\n",
            "Te pasaste, intenta con otro numero mas pequeño\n",
            "Dame tu suposición: 12\n",
            "Te quedaste corto, intenta con algun numero mas grande\n",
            "Dame tu suposición: 25\n",
            "Te quedaste corto, intenta con algun numero mas grande\n",
            "Dame tu suposición: 29\n",
            "Te quedaste corto, intenta con algun numero mas grande\n",
            "Dame tu suposición: 30\n",
            "Bien hecho, adivinaste\n"
          ]
        }
      ]
    },
    {
      "cell_type": "code",
      "source": [
        "def es_primo(numero):\n",
        "    if numero <= 1:\n",
        "        return False\n",
        "    elif numero == 2:\n",
        "        return True\n",
        "    elif numero % 2 == 0:\n",
        "        return False\n",
        "    else:\n",
        "        for i in range(3, int(numero**0.5) + 1, 2):\n",
        "            if numero % i == 0:\n",
        "                return False\n",
        "        return True\n",
        "\n",
        "def encontrar_primos_en_rango(inicio_rango, fin_rango):\n",
        "    primos = []\n",
        "    for num in range(inicio_rango, fin_rango + 1):\n",
        "        if es_primo(num):\n",
        "            primos.append(num)\n",
        "    return primos\n",
        "\n",
        "inicio_rango = int(input(\"Ingrese el inicio del rango: \"))\n",
        "fin_rango = int(input(\"Ingrese el fin del rango: \"))\n",
        "\n",
        "if inicio_rango >= fin_rango:\n",
        "    print(\"El inicio del rango debe ser menor que el fin del rango.\")\n",
        "else:\n",
        "    primos_en_rango = encontrar_primos_en_rango(inicio_rango, fin_rango)\n",
        "    if primos_en_rango:\n",
        "        print(\"Los números primos en el rango de {} a {} son:\".format(inicio_rango, fin_rango))\n",
        "        print(primos_en_rango)\n",
        "    else:\n",
        "        print(\"No hay números primos en el rango de {} a {}.\".format(inicio_rango, fin_rango))"
      ],
      "metadata": {
        "colab": {
          "base_uri": "https://localhost:8080/"
        },
        "id": "Or-EYnBFPHMv",
        "outputId": "dda27f81-5ccb-40f0-9ce2-bf58ad22b794"
      },
      "execution_count": 8,
      "outputs": [
        {
          "output_type": "stream",
          "name": "stdout",
          "text": [
            "Ingrese el inicio del rango: 23\n",
            "Ingrese el fin del rango: 89\n",
            "Los números primos en el rango de 23 a 89 son:\n",
            "[23, 29, 31, 37, 41, 43, 47, 53, 59, 61, 67, 71, 73, 79, 83, 89]\n"
          ]
        }
      ]
    },
    {
      "cell_type": "code",
      "source": [
        "def suma(a, b):\n",
        "    return a + b\n",
        "\n",
        "def resta(a, b):\n",
        "    return a - b\n",
        "\n",
        "def multiplicacion(a, b):\n",
        "    return a * b\n",
        "\n",
        "def division(a, b):\n",
        "    if b == 0:\n",
        "        return \"Error: División por cero.\"\n",
        "    else:\n",
        "        return a / b\n",
        "\n",
        "num_1 = float(input(\"Introduce el primer número: \"))\n",
        "num_2 = float(input(\"Introduce el segundo número: \"))\n",
        "\n",
        "print(\"Selecciona la operación que deseas realizar:\")\n",
        "print(\"1. Suma\")\n",
        "print(\"2. Resta\")\n",
        "print(\"3. Multiplicación\")\n",
        "print(\"4. División\")\n",
        "\n",
        "operacion = int(input(\"Elige una opción: \"))\n",
        "\n",
        "if operacion in [1, 2, 3, 4]:\n",
        "    if operacion == 1:\n",
        "        resultado = suma(num_1, num_2)\n",
        "        print(f\"La suma de {num_1} y {num_2} es {resultado}\")\n",
        "    elif operacion == 2:\n",
        "        resultado = resta(num_1, num_2)\n",
        "        print(f\"La resta de {num_1} y {num_2} es {resultado}\")\n",
        "    elif operacion == 3:\n",
        "        resultado = multiplicacion(num_1, num_2)\n",
        "        print(f\"La multiplicación de {num_1} y {num_2} es {resultado}\")\n",
        "    else:\n",
        "        resultado = division(num_1, num_2)\n",
        "        if isinstance(resultado, str):\n",
        "            print(resultado)\n",
        "        else:\n",
        "            print(f\"La división de {num_1} y {num_2} es {resultado}\")\n",
        "else:\n",
        "    print(\"Operación no válida.\")\n"
      ],
      "metadata": {
        "colab": {
          "base_uri": "https://localhost:8080/"
        },
        "id": "tzMcOWKZSLc6",
        "outputId": "1344227d-f7d7-40c9-c82b-96275cdef858"
      },
      "execution_count": 13,
      "outputs": [
        {
          "output_type": "stream",
          "name": "stdout",
          "text": [
            "Introduce el primer número: 23\n",
            "Introduce el segundo número: 2\n",
            "Selecciona la operación que deseas realizar:\n",
            "1. Suma\n",
            "2. Resta\n",
            "3. Multiplicación\n",
            "4. División\n",
            "Elige una opción: 3\n",
            "La multiplicación de 23.0 y 2.0 es 46.0\n"
          ]
        }
      ]
    }
  ]
}