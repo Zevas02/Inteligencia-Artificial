{
  "nbformat": 4,
  "nbformat_minor": 0,
  "metadata": {
    "colab": {
      "provenance": [],
      "authorship_tag": "ABX9TyPhbQjSRgl9kJUzeeKXrgWz",
      "include_colab_link": true
    },
    "kernelspec": {
      "name": "python3",
      "display_name": "Python 3"
    },
    "language_info": {
      "name": "python"
    }
  },
  "cells": [
    {
      "cell_type": "markdown",
      "metadata": {
        "id": "view-in-github",
        "colab_type": "text"
      },
      "source": [
        "<a href=\"https://colab.research.google.com/github/Zevas02/Inteligencia-Artificial/blob/main/Actividades/Ex1.ipynb\" target=\"_parent\"><img src=\"https://colab.research.google.com/assets/colab-badge.svg\" alt=\"Open In Colab\"/></a>"
      ]
    },
    {
      "cell_type": "code",
      "execution_count": 2,
      "metadata": {
        "id": "LcE1TTjjGxrs",
        "colab": {
          "base_uri": "https://localhost:8080/"
        },
        "outputId": "4a587c8d-73a1-4009-b9f8-3f29fbd49775"
      },
      "outputs": [
        {
          "output_type": "stream",
          "name": "stdout",
          "text": [
            "Favor de ingresar su nombre:Sebastian\n",
            "Buen día, sebastian.\n"
          ]
        }
      ],
      "source": [
        "ç# Solicitamos al usuario su nombre, para lo que declararemos la variable \"name\".\n",
        "name = input(\"Favor de ingresar su nombre:\")\n",
        "name = name.lower()\n",
        "\n",
        "# Confirmaremos si el nombre no es parte de los nombres a excluir.\n",
        "if name not in [\"ana\", \"juan\", \"pedro\"]:\n",
        "    print(f\"Buen día, {name}.\")\n",
        "else:\n",
        "    print(\"¡Hola! Buen día\")\n"
      ]
    },
    {
      "cell_type": "code",
      "source": [
        "# Solicitamos al usuario su nombre, para lo que declararemos la variable \"name\".\n",
        "name = input(\"Favor de ingresar su nombre:\")\n",
        "name = name.lower()\n",
        "\n",
        "# Confirmaremos si el nombre no es parte de los nombres a excluir.\n",
        "if name not in [\"ana\", \"juan\", \"pedro\"]:\n",
        "    print(f\"Buen día, {name}.\")\n",
        "else:\n",
        "    print(\"¡Hola! Buen día\")"
      ],
      "metadata": {
        "colab": {
          "base_uri": "https://localhost:8080/"
        },
        "id": "or57dS04HJEn",
        "outputId": "6fc7b34d-0411-468e-cb3f-5a846b9e40f8"
      },
      "execution_count": 3,
      "outputs": [
        {
          "output_type": "stream",
          "name": "stdout",
          "text": [
            "Favor de ingresar su nombre:Juan\n",
            "¡Hola! Buen día\n"
          ]
        }
      ]
    }
  ]
}